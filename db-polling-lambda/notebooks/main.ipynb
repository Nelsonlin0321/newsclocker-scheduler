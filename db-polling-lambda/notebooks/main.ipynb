{
 "cells": [
  {
   "cell_type": "code",
   "execution_count": 1,
   "metadata": {},
   "outputs": [],
   "source": [
    "import os"
   ]
  },
  {
   "cell_type": "code",
   "execution_count": 2,
   "metadata": {},
   "outputs": [],
   "source": [
    "os.chdir(\"./../.\")"
   ]
  },
  {
   "cell_type": "code",
   "execution_count": 3,
   "metadata": {},
   "outputs": [],
   "source": [
    "import dotenv"
   ]
  },
  {
   "cell_type": "code",
   "execution_count": null,
   "metadata": {},
   "outputs": [],
   "source": [
    "dotenv.load_dotenv()"
   ]
  },
  {
   "cell_type": "code",
   "execution_count": 5,
   "metadata": {},
   "outputs": [],
   "source": [
    "import os\n",
    "from tqdm import tqdm\n",
    "from datetime import datetime, timedelta, timezone\n",
    "from src.aws_utils import send_message_to_queue\n",
    "from src.dependencies import get_db"
   ]
  },
  {
   "cell_type": "code",
   "execution_count": 6,
   "metadata": {},
   "outputs": [],
   "source": [
    "INTERVAL_MINUTES = int(os.getenv(\"INTERVAL\", \"5\"))\n",
    "\n",
    "\n",
    "def main():\n",
    "    left_datetime = datetime.now(\n",
    "        timezone.utc)\n",
    "\n",
    "    right_datetime = left_datetime + timedelta(seconds=INTERVAL_MINUTES*60)\n",
    "\n",
    "    db = get_db()\n",
    "\n",
    "    subscriptions = list(db['NewsSubscription'].find({\n",
    "        '$and': [{\n",
    "            'status': {'$ne': 'RUNNING'},\n",
    "            'nextRunTime': {\n",
    "                '$gte': left_datetime,\n",
    "                '$lte': right_datetime\n",
    "            }\n",
    "        }]\n",
    "    }))\n",
    "\n",
    "    for sub in tqdm(subscriptions):\n",
    "        subscriptionId = sub[\"_id\"]\n",
    "        send_message_to_queue(subscriptionId)\n",
    "        db['NewsSubscription'].update_one(\n",
    "            filter={\"_id\": subscriptionId},\n",
    "            update={\"$set\": {\"status\": \"RUNNING\"}}\n",
    "        )"
   ]
  },
  {
   "cell_type": "code",
   "execution_count": null,
   "metadata": {},
   "outputs": [],
   "source": [
    "main()"
   ]
  }
 ],
 "metadata": {
  "kernelspec": {
   "display_name": ".venv",
   "language": "python",
   "name": "python3"
  },
  "language_info": {
   "codemirror_mode": {
    "name": "ipython",
    "version": 3
   },
   "file_extension": ".py",
   "mimetype": "text/x-python",
   "name": "python",
   "nbconvert_exporter": "python",
   "pygments_lexer": "ipython3",
   "version": "3.12.7"
  }
 },
 "nbformat": 4,
 "nbformat_minor": 2
}
